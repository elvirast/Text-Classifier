{
 "cells": [
  {
   "cell_type": "code",
   "execution_count": 12,
   "metadata": {},
   "outputs": [],
   "source": [
    "import pandas as pd\n",
    "import numpy as np\n",
    "import matplotlib.pyplot as plt\n",
    "import seaborn as sns\n",
    "%matplotlib inline"
   ]
  },
  {
   "cell_type": "code",
   "execution_count": 3,
   "metadata": {},
   "outputs": [],
   "source": [
    "df = pd.read_csv('data/case_study_data.csv')"
   ]
  },
  {
   "cell_type": "code",
   "execution_count": 4,
   "metadata": {},
   "outputs": [
    {
     "data": {
      "text/html": [
       "<div>\n",
       "<style scoped>\n",
       "    .dataframe tbody tr th:only-of-type {\n",
       "        vertical-align: middle;\n",
       "    }\n",
       "\n",
       "    .dataframe tbody tr th {\n",
       "        vertical-align: top;\n",
       "    }\n",
       "\n",
       "    .dataframe thead th {\n",
       "        text-align: right;\n",
       "    }\n",
       "</style>\n",
       "<table border=\"1\" class=\"dataframe\">\n",
       "  <thead>\n",
       "    <tr style=\"text-align: right;\">\n",
       "      <th></th>\n",
       "      <th>complaint_id</th>\n",
       "      <th>product_group</th>\n",
       "      <th>text</th>\n",
       "    </tr>\n",
       "  </thead>\n",
       "  <tbody>\n",
       "    <tr>\n",
       "      <th>0</th>\n",
       "      <td>2815595</td>\n",
       "      <td>bank_service</td>\n",
       "      <td>On XX/XX/2017 my check # XXXX was debited from...</td>\n",
       "    </tr>\n",
       "    <tr>\n",
       "      <th>1</th>\n",
       "      <td>2217937</td>\n",
       "      <td>bank_service</td>\n",
       "      <td>I opened a Bank of the the West account. The a...</td>\n",
       "    </tr>\n",
       "    <tr>\n",
       "      <th>2</th>\n",
       "      <td>2657456</td>\n",
       "      <td>bank_service</td>\n",
       "      <td>wells fargo in nj opened a business account wi...</td>\n",
       "    </tr>\n",
       "    <tr>\n",
       "      <th>3</th>\n",
       "      <td>1414106</td>\n",
       "      <td>bank_service</td>\n",
       "      <td>A hold was placed on my saving account ( XXXX ...</td>\n",
       "    </tr>\n",
       "    <tr>\n",
       "      <th>4</th>\n",
       "      <td>1999158</td>\n",
       "      <td>bank_service</td>\n",
       "      <td>Dear CFPB : I need to send a major concern/com...</td>\n",
       "    </tr>\n",
       "  </tbody>\n",
       "</table>\n",
       "</div>"
      ],
      "text/plain": [
       "   complaint_id product_group  \\\n",
       "0       2815595  bank_service   \n",
       "1       2217937  bank_service   \n",
       "2       2657456  bank_service   \n",
       "3       1414106  bank_service   \n",
       "4       1999158  bank_service   \n",
       "\n",
       "                                                text  \n",
       "0  On XX/XX/2017 my check # XXXX was debited from...  \n",
       "1  I opened a Bank of the the West account. The a...  \n",
       "2  wells fargo in nj opened a business account wi...  \n",
       "3  A hold was placed on my saving account ( XXXX ...  \n",
       "4  Dear CFPB : I need to send a major concern/com...  "
      ]
     },
     "execution_count": 4,
     "metadata": {},
     "output_type": "execute_result"
    }
   ],
   "source": [
    "df.head()"
   ]
  },
  {
   "cell_type": "code",
   "execution_count": 7,
   "metadata": {},
   "outputs": [
    {
     "name": "stdout",
     "output_type": "stream",
     "text": [
      "<class 'pandas.core.frame.DataFrame'>\n",
      "RangeIndex: 268359 entries, 0 to 268358\n",
      "Data columns (total 3 columns):\n",
      " #   Column         Non-Null Count   Dtype \n",
      "---  ------         --------------   ----- \n",
      " 0   complaint_id   268359 non-null  int64 \n",
      " 1   product_group  268359 non-null  object\n",
      " 2   text           268359 non-null  object\n",
      "dtypes: int64(1), object(2)\n",
      "memory usage: 6.1+ MB\n"
     ]
    }
   ],
   "source": [
    "df.info()"
   ]
  },
  {
   "cell_type": "code",
   "execution_count": 8,
   "metadata": {},
   "outputs": [
    {
     "name": "stdout",
     "output_type": "stream",
     "text": [
      "<class 'pandas.core.frame.DataFrame'>\n",
      "Int64Index: 268359 entries, 0 to 268358\n",
      "Data columns (total 3 columns):\n",
      " #   Column         Non-Null Count   Dtype \n",
      "---  ------         --------------   ----- \n",
      " 0   complaint_id   268359 non-null  int64 \n",
      " 1   product_group  268359 non-null  object\n",
      " 2   text           268359 non-null  object\n",
      "dtypes: int64(1), object(2)\n",
      "memory usage: 8.2+ MB\n"
     ]
    }
   ],
   "source": [
    "df.dropna(inplace = True)\n",
    "df.info()"
   ]
  },
  {
   "cell_type": "code",
   "execution_count": 20,
   "metadata": {},
   "outputs": [
    {
     "data": {
      "text/plain": [
       "product_group\n",
       "credit_reporting    81230\n",
       "debt_collection     61457\n",
       "mortgage            40279\n",
       "loan                31035\n",
       "credit_card         29553\n",
       "bank_service        20071\n",
       "money_transfers      4734\n",
       "Name: complaint_id, dtype: int64"
      ]
     },
     "execution_count": 20,
     "metadata": {},
     "output_type": "execute_result"
    }
   ],
   "source": [
    "df.groupby(['product_group'])['complaint_id'].count().sort_values(ascending = False)"
   ]
  },
  {
   "cell_type": "code",
   "execution_count": 31,
   "metadata": {},
   "outputs": [],
   "source": [
    "def plot_count(df, feature, title='', size=2):\n",
    "    f, ax = plt.subplots(1,1, figsize=(4*size,3*size))\n",
    "    total = float(len(df))\n",
    "    sns.countplot(df[feature],order = df[feature].value_counts().index, palette='Set2')\n",
    "    plt.title(title)\n",
    "    for p in ax.patches:\n",
    "        height = p.get_height()\n",
    "        ax.text(p.get_x()+p.get_width()/2.,\n",
    "                height + 3,\n",
    "                '{:1.2f}%'.format(100*height/total),\n",
    "                ha=\"center\")\n",
    "    plt.xticks(rotation='vertical')\n",
    "    plt.show()"
   ]
  },
  {
   "cell_type": "code",
   "execution_count": 32,
   "metadata": {},
   "outputs": [
    {
     "data": {
      "image/png": "[encoded data removed]",
      "text/plain": [
       "<Figure size 576x432 with 1 Axes>"
      ]
     },
     "metadata": {
      "needs_background": "light"
     },
     "output_type": "display_data"
    }
   ],
   "source": [
    "plot_count(df = df, feature='product_group', title = 'product_group percentage plot')"
   ]
  },
  {
   "cell_type": "code",
   "execution_count": 33,
   "metadata": {},
   "outputs": [],
   "source": [
    "groups = df.groupby(['product_group']).groups"
   ]
  },
  {
   "cell_type": "code",
   "execution_count": 37,
   "metadata": {},
   "outputs": [
    {
     "name": "stdout",
     "output_type": "stream",
     "text": [
      "bank_service :  On XX/XX/2017 my check # XXXX was debited from my checking account, and this check wasn't cashed by XXXX XXXX XXXX, I requested a copy of the endorsement of whom the fund was credited to, Bank of America can't give me satisfactory answer, since this contractor breach of contract that I needed proof of payment in court.\n",
      "====================================================================================================\n",
      "credit_card :  I HAVE HAD AN ACCOUNT WITH DISCOVER CARD SINCE 2011. I HAVE PAID THEM AS AGREED MONTHLY EVER SINCE. HOWEVER, NOW THEY HAVE DECIDED THAT THEY WILL NOT GRANT ME CREDIT ANY LONGER? I HAVE NOW AN AVAILABLE CREDIT LIMIT OF SOME {$1500.00}. THEY REFUSE TO ALLOW ME TO USE THIS ACCOUNT? I AM VERY ANGRY ABOUT THIS TO SAY THE LEAST!\n",
      "====================================================================================================\n",
      "credit_reporting :  I disputed three inaccurate 30 day late payments on my credit report directly to Experian. I submitted all documentation by certified mail on  XXXX   XXXX ,   XXXX   to Experian including : record of my payment due date (  XXXX  each month {$840.00} ) along with printouts of my Bank Statements, verifying the date the funds were withdrawn from my account for payment of my vehicle loan to  XXXX   XXXX . I noted the inconsistencies between the  XXXX  reporting bureaus of this account. I noted inconsistent accounting of the actual payment amounts listed on the account that were displayed in my credit report. I asked for the amounts paid and dates they were paid to be updated on my report. I explained that the credit union my loan was with got bought and the new credit union was not applying my payments correctly. I requested they look at my account of the prior loan company it was with :  XXXX   XXXX   XXXX  and take notice I never had a late payment before the buyout. No follow up to my request by experian giving a response. The file should be updated noting no late payment and all payments made accordingly to on time status.\n",
      "====================================================================================================\n",
      "debt_collection :  Commonwealth Financial Systems agreed to settle a {$4000.00} debt for {$2000.00} if I set up automatic debit from my bank account for {$100.00} a month. They also agreed that while in good standing they would remove this negative line from my credit report. After 2 months of paying I called because I never received official notification of the agreement. I asked for an official statement or letter and they said they could n't send XXXX. At that point I said I wanted to stop all payments until an official letter was delivered and they said ok. The next month they took the money out again and I called and said \" I am not authorizing you to take money anymore please stop. And they continue to take {$100.00} out of my account every month. I do n't know what to do because they wo n't stop taking the money after I asked them multiple times to stop until the agreement could be official. My bank said they can not stop the automatic withdrawal and Commonwealth Financial Systems will not adhere to my demand to stop taking the money.\n",
      "====================================================================================================\n",
      "loan :  I 'm not exactly sure who is or should be servicing my loan at this time, XXXX or Sallie Mae. My first disbursement date was XX/XX/XXXX in the amount of {$1200.00}. I may have received some false or misleading information when I expressed financial hardship to Sallie Mae in XX/XX/XXXX, I 'm not sure if I should take the suspension since I 'm still able to make payments, I 'm just wondering how often they 're going to change the interest rates. They told me that my only option was a temporary suspension of payments. In earlier months ( not sure when ) I was told to call XXXX, either way, I feel like I 'm being taken advantage of, please help\n",
      "====================================================================================================\n",
      "money_transfers :  I have an account with Coinbase.com for buying and selling Bitcoin. My main concern is that I initiated a wire transfer to Coinbase.com and after 9 days, my account still shows 2 messages Not Verified and Transfer Pending. I am very concerned since Coinbase states wire transfers are completed the next business day. Also, I am alarmed that this is not an isolated case after reading through their support forum.\n",
      "<P/>\n",
      "On the morning of Thursday  XXXX   XXXX  2017, I initiated a wire transfer in the amount of {$11000.00} from my personal checking account to my Coinbase.com account based on the explicit wire transfer instructions ( see attached ) provided by Coinbase. Coinbase support forum state wire transfers are completed by next business day. Next business day was Friday   XXXX    XXXX  2017. I opened a support case with Coinbase on  XXXX   XXXX , 2017   XXXX   ( see attached ). The only response I have received to date is Coinbase deleting any of my additional submitted cases which is very frustrating since they dont have time to process my wire transfer but can delete duplicate cases. Furthermore, the wire transfer instructions are still available which indicates to me they are not warning customers that wire transfers are an issue. At best, they are running a business with extremely poor customer service and at worse they are committing fraud in my opinion. There is no other way to contact Coinbase support to resolve my issue.\n",
      "====================================================================================================\n",
      "mortgage :  I was denied for a loan modification ( HAMP XXXX ) on XXXX XXXX, 2015. Wells Fargo Home Mortgage made a mistake on box XXXX of my NPV - Property Taxes. They state they denied me for a HAMP XXXX XXXX because \" my modified payment would be less than 25 % of my monthly income ... '' ( See attached denial letter ). However, they had my property taxes incorrect in the review. If they correct my property taxes, then my modified payment would be actually more than 25 % of my income and I should qualify. ( See attached actual appeal letter for more detailed explanation ). This is a cut and dry appeal with no questions there was an error. However, Wells Fargo Home Mortgage ignores ALL appeals and simply replies with a form letter stating they did not make an error. If this is in fact the case with this loan, I hope the CFPB uses this to prove this is what Wells Fargo does to everyone and fines them millions of dollars for lying! I hired an attorney to help me with submitting my paperwork. My attorney filed a dispute to my denial on XXXX XXXX, 2015. The dispute provided a copy of the actual current property tax bill. Wells Fargo Home Mortgage general practice is to ignore all requests. They did this with my appeal. Even though my appeal unquestionably proves they made an error on the XXXX review, they refused to respond to my appeal. Later they verbally said they did a review and it was still denied. My attorney has been asking for a new \" Corrected '' NPV chart and denial letter. To date they have refused to provide me this CORRECTED NPV and NEW denial they state they have. In the mean time they have referred my loan for foreclosure. This is what Wells Fargo Home Mortgage does to people. Play games, dual track foreclosure and hold back paperwork in an effort to evade properly reviewing home owner 's for assistance. They do this while the market values of homes increase so they gain more and offer less.\n",
      "====================================================================================================\n"
     ]
    }
   ],
   "source": [
    "for group in groups:\n",
    "    print(group, ': ', df.loc[df.product_group == group].iloc[0].text)\n",
    "    print('='*100)"
   ]
  },
  {
   "cell_type": "code",
   "execution_count": null,
   "metadata": {},
   "outputs": [],
   "source": []
  }
 ],
 "metadata": {
  "environment": {
   "name": "tf2-gpu.2-1.m46",
   "type": "gcloud",
   "uri": "gcr.io/deeplearning-platform-release/tf2-gpu.2-1:m46"
  },
  "kernelspec": {
   "display_name": "Python 3",
   "language": "python",
   "name": "python3"
  },
  "language_info": {
   "codemirror_mode": {
    "name": "ipython",
    "version": 3
   },
   "file_extension": ".py",
   "mimetype": "text/x-python",
   "name": "python",
   "nbconvert_exporter": "python",
   "pygments_lexer": "ipython3",
   "version": "3.7.6"
  }
 },
 "nbformat": 4,
 "nbformat_minor": 4
}
